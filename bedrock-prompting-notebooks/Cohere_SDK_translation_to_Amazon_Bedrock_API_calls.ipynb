{
 "cells": [
  {
   "cell_type": "markdown",
   "id": "27346772-a703-4cc8-ab30-147d918057b3",
   "metadata": {},
   "source": [
    "# Cohere SDK Translation to the Amazon Bedrock API\n",
    "\n",
    "---\n",
    "## Introduction\n",
    "In this notebook, we demonstrate how to translate the Cohere SDK into Amazon Bedrock API calls.\n",
    "\n",
    "---"
   ]
  },
  {
   "cell_type": "code",
   "execution_count": null,
   "id": "17e75dca-28c2-4804-9f91-5efc9a9d2e85",
   "metadata": {},
   "outputs": [],
   "source": []
  }
 ],
 "metadata": {
  "kernelspec": {
   "display_name": "conda_pytorch_p310",
   "language": "python",
   "name": "conda_pytorch_p310"
  },
  "language_info": {
   "codemirror_mode": {
    "name": "ipython",
    "version": 3
   },
   "file_extension": ".py",
   "mimetype": "text/x-python",
   "name": "python",
   "nbconvert_exporter": "python",
   "pygments_lexer": "ipython3",
   "version": "3.10.14"
  }
 },
 "nbformat": 4,
 "nbformat_minor": 5
}
