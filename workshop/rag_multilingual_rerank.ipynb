{
 "cells": [
  {
   "cell_type": "markdown",
   "metadata": {
    "id": "mz33G3t6gbOl"
   },
   "source": [
    "# Cohere's Multilingual Models on AWS\n",
    "\n",
    "In today's globalized world, the ability to understand and process multiple languages is becoming increasingly important. [Cohere](https://cohere.com/) has developed a suite of multilingual models designed to tackle this challenge. In this notebook, we'll explore the Cohere's multilingual models and their potential applications.\n",
    "\n",
    "## Why Multilingual Models Matter\n",
    "\n",
    "Language is a fundamental aspect of human communication and cultural expression. As businesses and organizations expand their reach across borders, the need for effective multilingual solutions becomes paramount. Multilingual models enable seamless communication, bridging language barriers and facilitating cross-cultural understanding.\n",
    "\n",
    "[Cohere's multilingual models](https://aws.amazon.com/marketplace/seller-profile?id=87af0c85-6cf9-4ed8-bee0-b40ce65167e0) offer several benefits:\n",
    "\n",
    "1. **Broad Language Coverage**: Cohere's models support a wide range of languages, allowing you to process and generate content in multiple languages simultaneously.\n",
    "\n",
    "2. **Improved Accuracy**: By training on diverse language data, these models can better capture nuances, idioms, and cultural contexts, resulting in more accurate translations and language processing.\n",
    "\n",
    "3. **Scalability**: With a single multilingual model, you can address language needs across multiple regions, reducing the need for maintaining separate models for each language.\n",
    "\n",
    "4. **Cost-Efficiency**: Deploying a single multilingual model can be more cost-effective than maintaining multiple monolingual models, especially for organizations with global operations.\n",
    "\n",
    "## The Models\n",
    "\n",
    "In this notebook, we'll be working with the following Cohere's multilingual models:\n",
    "\n",
    "1. **Cohere Command R+**: A powerful Large Language Model (LLM) capable of understanding and generating text in multiple languages.\n",
    "\n",
    "2. **Cohere Embed Multilingual V3**: An embedding model designed to encode text from various languages into dense vector representations, enabling efficient similarity comparisons and semantic search.\n",
    "\n",
    "3. **Cohere Rerank V3.5**: The Cohere Rerank is a powerful tool that allows users to refine and improve the output of their models by considering additional context and signals\n",
    "\n",
    "Throughout this notebook, we'll explore practical examples and use cases for these models, showcasing their capabilities in areas such as multilingual content generation, and information retrieval.\n",
    "\n",
    "\n",
    "## Architecture\n",
    "\n",
    "![MultilingualRAGArchitecture](images/MultilingualRAGArchitectureRerank.png)\n",
    "\n",
    "1. Create embedding for the dataset and store it in a vector DB\n",
    "2. Create embedding for the query\n",
    "3. Obtain search results based on embedding\n",
    "4. Refine search results with Rerank and send Query+ Reranked Search results to the LLM to generate final output"
   ]
  },
  {
   "cell_type": "markdown",
   "metadata": {},
   "source": [
    "## Pre-requisites:\n",
    "\n",
    "Use kernel either `conda_python3`, `conda_pytorch_p310` or `conda_tensorflow2_p310`."
   ]
  },
  {
   "cell_type": "markdown",
   "metadata": {},
   "source": [
    "## Step 1: Install Dependencies\n",
    "\n",
    "Here, we will install all the required dependencies to run this notebook."
   ]
  },
  {
   "cell_type": "code",
   "execution_count": 1,
   "metadata": {
    "colab": {
     "base_uri": "https://localhost:8080/"
    },
    "id": "H787BXXYvD0a",
    "outputId": "04ef5e04-7760-4d40-deeb-663536b38f20",
    "tags": []
   },
   "outputs": [
    {
     "name": "stdout",
     "output_type": "stream",
     "text": [
      "Collecting cohere-aws==0.8.16\n",
      "  Using cached cohere_aws-0.8.16-cp310-cp310-linux_x86_64.whl\n",
      "Requirement already satisfied: boto3>=1.28.57 in /home/ec2-user/anaconda3/envs/python3/lib/python3.10/site-packages (from cohere-aws==0.8.16) (1.36.20)\n",
      "Requirement already satisfied: sagemaker in /home/ec2-user/anaconda3/envs/python3/lib/python3.10/site-packages (from cohere-aws==0.8.16) (2.233.0)\n",
      "Requirement already satisfied: botocore<1.37.0,>=1.36.20 in /home/ec2-user/anaconda3/envs/python3/lib/python3.10/site-packages (from boto3>=1.28.57->cohere-aws==0.8.16) (1.36.20)\n",
      "Requirement already satisfied: jmespath<2.0.0,>=0.7.1 in /home/ec2-user/anaconda3/envs/python3/lib/python3.10/site-packages (from boto3>=1.28.57->cohere-aws==0.8.16) (1.0.1)\n",
      "Requirement already satisfied: s3transfer<0.12.0,>=0.11.0 in /home/ec2-user/anaconda3/envs/python3/lib/python3.10/site-packages (from boto3>=1.28.57->cohere-aws==0.8.16) (0.11.2)\n",
      "Requirement already satisfied: attrs<24,>=23.1.0 in /home/ec2-user/anaconda3/envs/python3/lib/python3.10/site-packages (from sagemaker->cohere-aws==0.8.16) (23.2.0)\n",
      "Requirement already satisfied: cloudpickle==2.2.1 in /home/ec2-user/anaconda3/envs/python3/lib/python3.10/site-packages (from sagemaker->cohere-aws==0.8.16) (2.2.1)\n",
      "Requirement already satisfied: docker in /home/ec2-user/anaconda3/envs/python3/lib/python3.10/site-packages (from sagemaker->cohere-aws==0.8.16) (7.1.0)\n",
      "Requirement already satisfied: google-pasta in /home/ec2-user/anaconda3/envs/python3/lib/python3.10/site-packages (from sagemaker->cohere-aws==0.8.16) (0.2.0)\n",
      "Requirement already satisfied: importlib-metadata<7.0,>=1.4.0 in /home/ec2-user/anaconda3/envs/python3/lib/python3.10/site-packages (from sagemaker->cohere-aws==0.8.16) (6.11.0)\n",
      "Requirement already satisfied: jsonschema in /home/ec2-user/anaconda3/envs/python3/lib/python3.10/site-packages (from sagemaker->cohere-aws==0.8.16) (4.23.0)\n",
      "Requirement already satisfied: numpy<2.0,>=1.9.0 in /home/ec2-user/anaconda3/envs/python3/lib/python3.10/site-packages (from sagemaker->cohere-aws==0.8.16) (1.26.4)\n",
      "Requirement already satisfied: packaging>=20.0 in /home/ec2-user/anaconda3/envs/python3/lib/python3.10/site-packages (from sagemaker->cohere-aws==0.8.16) (24.2)\n",
      "Requirement already satisfied: pandas in /home/ec2-user/anaconda3/envs/python3/lib/python3.10/site-packages (from sagemaker->cohere-aws==0.8.16) (2.2.3)\n",
      "Requirement already satisfied: pathos in /home/ec2-user/anaconda3/envs/python3/lib/python3.10/site-packages (from sagemaker->cohere-aws==0.8.16) (0.3.3)\n",
      "Requirement already satisfied: platformdirs in /home/ec2-user/anaconda3/envs/python3/lib/python3.10/site-packages (from sagemaker->cohere-aws==0.8.16) (4.3.6)\n",
      "Requirement already satisfied: protobuf<5.0,>=3.12 in /home/ec2-user/anaconda3/envs/python3/lib/python3.10/site-packages (from sagemaker->cohere-aws==0.8.16) (4.25.5)\n",
      "Requirement already satisfied: psutil in /home/ec2-user/anaconda3/envs/python3/lib/python3.10/site-packages (from sagemaker->cohere-aws==0.8.16) (6.0.0)\n",
      "Requirement already satisfied: pyyaml~=6.0 in /home/ec2-user/anaconda3/envs/python3/lib/python3.10/site-packages (from sagemaker->cohere-aws==0.8.16) (6.0.2)\n",
      "Requirement already satisfied: requests in /home/ec2-user/anaconda3/envs/python3/lib/python3.10/site-packages (from sagemaker->cohere-aws==0.8.16) (2.32.3)\n",
      "Requirement already satisfied: sagemaker-core<2.0.0,>=1.0.0 in /home/ec2-user/anaconda3/envs/python3/lib/python3.10/site-packages (from sagemaker->cohere-aws==0.8.16) (1.0.14)\n",
      "Requirement already satisfied: sagemaker-mlflow in /home/ec2-user/anaconda3/envs/python3/lib/python3.10/site-packages (from sagemaker->cohere-aws==0.8.16) (0.1.0)\n",
      "Requirement already satisfied: schema in /home/ec2-user/anaconda3/envs/python3/lib/python3.10/site-packages (from sagemaker->cohere-aws==0.8.16) (0.7.7)\n",
      "Requirement already satisfied: smdebug-rulesconfig==1.0.1 in /home/ec2-user/anaconda3/envs/python3/lib/python3.10/site-packages (from sagemaker->cohere-aws==0.8.16) (1.0.1)\n",
      "Requirement already satisfied: tblib<4,>=1.7.0 in /home/ec2-user/anaconda3/envs/python3/lib/python3.10/site-packages (from sagemaker->cohere-aws==0.8.16) (3.0.0)\n",
      "Requirement already satisfied: tqdm in /home/ec2-user/anaconda3/envs/python3/lib/python3.10/site-packages (from sagemaker->cohere-aws==0.8.16) (4.66.5)\n",
      "Requirement already satisfied: urllib3<3.0.0,>=1.26.8 in /home/ec2-user/anaconda3/envs/python3/lib/python3.10/site-packages (from sagemaker->cohere-aws==0.8.16) (2.2.3)\n",
      "Requirement already satisfied: python-dateutil<3.0.0,>=2.1 in /home/ec2-user/anaconda3/envs/python3/lib/python3.10/site-packages (from botocore<1.37.0,>=1.36.20->boto3>=1.28.57->cohere-aws==0.8.16) (2.9.0)\n",
      "Requirement already satisfied: zipp>=0.5 in /home/ec2-user/anaconda3/envs/python3/lib/python3.10/site-packages (from importlib-metadata<7.0,>=1.4.0->sagemaker->cohere-aws==0.8.16) (3.20.2)\n",
      "Requirement already satisfied: pydantic<3.0.0,>=1.7.0 in /home/ec2-user/anaconda3/envs/python3/lib/python3.10/site-packages (from sagemaker-core<2.0.0,>=1.0.0->sagemaker->cohere-aws==0.8.16) (2.9.2)\n",
      "Requirement already satisfied: rich<14.0.0,>=13.0.0 in /home/ec2-user/anaconda3/envs/python3/lib/python3.10/site-packages (from sagemaker-core<2.0.0,>=1.0.0->sagemaker->cohere-aws==0.8.16) (13.9.3)\n",
      "Requirement already satisfied: mock<5.0,>4.0 in /home/ec2-user/anaconda3/envs/python3/lib/python3.10/site-packages (from sagemaker-core<2.0.0,>=1.0.0->sagemaker->cohere-aws==0.8.16) (4.0.3)\n",
      "Requirement already satisfied: jsonschema-specifications>=2023.03.6 in /home/ec2-user/anaconda3/envs/python3/lib/python3.10/site-packages (from jsonschema->sagemaker->cohere-aws==0.8.16) (2024.10.1)\n",
      "Requirement already satisfied: referencing>=0.28.4 in /home/ec2-user/anaconda3/envs/python3/lib/python3.10/site-packages (from jsonschema->sagemaker->cohere-aws==0.8.16) (0.35.1)\n",
      "Requirement already satisfied: rpds-py>=0.7.1 in /home/ec2-user/anaconda3/envs/python3/lib/python3.10/site-packages (from jsonschema->sagemaker->cohere-aws==0.8.16) (0.20.0)\n",
      "Requirement already satisfied: charset-normalizer<4,>=2 in /home/ec2-user/anaconda3/envs/python3/lib/python3.10/site-packages (from requests->sagemaker->cohere-aws==0.8.16) (3.4.0)\n",
      "Requirement already satisfied: idna<4,>=2.5 in /home/ec2-user/anaconda3/envs/python3/lib/python3.10/site-packages (from requests->sagemaker->cohere-aws==0.8.16) (3.10)\n",
      "Requirement already satisfied: certifi>=2017.4.17 in /home/ec2-user/anaconda3/envs/python3/lib/python3.10/site-packages (from requests->sagemaker->cohere-aws==0.8.16) (2024.8.30)\n",
      "Requirement already satisfied: six in /home/ec2-user/anaconda3/envs/python3/lib/python3.10/site-packages (from google-pasta->sagemaker->cohere-aws==0.8.16) (1.16.0)\n",
      "Requirement already satisfied: pytz>=2020.1 in /home/ec2-user/anaconda3/envs/python3/lib/python3.10/site-packages (from pandas->sagemaker->cohere-aws==0.8.16) (2024.2)\n",
      "Requirement already satisfied: tzdata>=2022.7 in /home/ec2-user/anaconda3/envs/python3/lib/python3.10/site-packages (from pandas->sagemaker->cohere-aws==0.8.16) (2025.1)\n",
      "Requirement already satisfied: ppft>=1.7.6.9 in /home/ec2-user/anaconda3/envs/python3/lib/python3.10/site-packages (from pathos->sagemaker->cohere-aws==0.8.16) (1.7.6.9)\n",
      "Requirement already satisfied: dill>=0.3.9 in /home/ec2-user/anaconda3/envs/python3/lib/python3.10/site-packages (from pathos->sagemaker->cohere-aws==0.8.16) (0.3.9)\n",
      "Requirement already satisfied: pox>=0.3.5 in /home/ec2-user/anaconda3/envs/python3/lib/python3.10/site-packages (from pathos->sagemaker->cohere-aws==0.8.16) (0.3.5)\n",
      "Requirement already satisfied: multiprocess>=0.70.17 in /home/ec2-user/anaconda3/envs/python3/lib/python3.10/site-packages (from pathos->sagemaker->cohere-aws==0.8.16) (0.70.17)\n",
      "Requirement already satisfied: mlflow>=2.8 in /home/ec2-user/anaconda3/envs/python3/lib/python3.10/site-packages (from sagemaker-mlflow->sagemaker->cohere-aws==0.8.16) (2.18.0)\n",
      "Requirement already satisfied: mlflow-skinny==2.18.0 in /home/ec2-user/anaconda3/envs/python3/lib/python3.10/site-packages (from mlflow>=2.8->sagemaker-mlflow->sagemaker->cohere-aws==0.8.16) (2.18.0)\n",
      "Requirement already satisfied: Flask<4 in /home/ec2-user/anaconda3/envs/python3/lib/python3.10/site-packages (from mlflow>=2.8->sagemaker-mlflow->sagemaker->cohere-aws==0.8.16) (3.0.3)\n",
      "Requirement already satisfied: alembic!=1.10.0,<2 in /home/ec2-user/anaconda3/envs/python3/lib/python3.10/site-packages (from mlflow>=2.8->sagemaker-mlflow->sagemaker->cohere-aws==0.8.16) (1.14.0)\n",
      "Requirement already satisfied: graphene<4 in /home/ec2-user/anaconda3/envs/python3/lib/python3.10/site-packages (from mlflow>=2.8->sagemaker-mlflow->sagemaker->cohere-aws==0.8.16) (3.4.3)\n",
      "Requirement already satisfied: markdown<4,>=3.3 in /home/ec2-user/anaconda3/envs/python3/lib/python3.10/site-packages (from mlflow>=2.8->sagemaker-mlflow->sagemaker->cohere-aws==0.8.16) (3.7)\n",
      "Requirement already satisfied: matplotlib<4 in /home/ec2-user/anaconda3/envs/python3/lib/python3.10/site-packages (from mlflow>=2.8->sagemaker-mlflow->sagemaker->cohere-aws==0.8.16) (3.9.2)\n",
      "Requirement already satisfied: pyarrow<19,>=4.0.0 in /home/ec2-user/anaconda3/envs/python3/lib/python3.10/site-packages (from mlflow>=2.8->sagemaker-mlflow->sagemaker->cohere-aws==0.8.16) (17.0.0)\n",
      "Requirement already satisfied: scikit-learn<2 in /home/ec2-user/anaconda3/envs/python3/lib/python3.10/site-packages (from mlflow>=2.8->sagemaker-mlflow->sagemaker->cohere-aws==0.8.16) (1.5.2)\n",
      "Requirement already satisfied: scipy<2 in /home/ec2-user/anaconda3/envs/python3/lib/python3.10/site-packages (from mlflow>=2.8->sagemaker-mlflow->sagemaker->cohere-aws==0.8.16) (1.14.1)\n",
      "Requirement already satisfied: sqlalchemy<3,>=1.4.0 in /home/ec2-user/anaconda3/envs/python3/lib/python3.10/site-packages (from mlflow>=2.8->sagemaker-mlflow->sagemaker->cohere-aws==0.8.16) (2.0.36)\n",
      "Requirement already satisfied: Jinja2<4,>=2.11 in /home/ec2-user/anaconda3/envs/python3/lib/python3.10/site-packages (from mlflow>=2.8->sagemaker-mlflow->sagemaker->cohere-aws==0.8.16) (3.1.4)\n",
      "Requirement already satisfied: gunicorn<24 in /home/ec2-user/anaconda3/envs/python3/lib/python3.10/site-packages (from mlflow>=2.8->sagemaker-mlflow->sagemaker->cohere-aws==0.8.16) (23.0.0)\n",
      "Requirement already satisfied: cachetools<6,>=5.0.0 in /home/ec2-user/anaconda3/envs/python3/lib/python3.10/site-packages (from mlflow-skinny==2.18.0->mlflow>=2.8->sagemaker-mlflow->sagemaker->cohere-aws==0.8.16) (5.5.0)\n",
      "Requirement already satisfied: click<9,>=7.0 in /home/ec2-user/anaconda3/envs/python3/lib/python3.10/site-packages (from mlflow-skinny==2.18.0->mlflow>=2.8->sagemaker-mlflow->sagemaker->cohere-aws==0.8.16) (8.1.7)\n",
      "Requirement already satisfied: databricks-sdk<1,>=0.20.0 in /home/ec2-user/anaconda3/envs/python3/lib/python3.10/site-packages (from mlflow-skinny==2.18.0->mlflow>=2.8->sagemaker-mlflow->sagemaker->cohere-aws==0.8.16) (0.37.0)\n",
      "Requirement already satisfied: gitpython<4,>=3.1.9 in /home/ec2-user/anaconda3/envs/python3/lib/python3.10/site-packages (from mlflow-skinny==2.18.0->mlflow>=2.8->sagemaker-mlflow->sagemaker->cohere-aws==0.8.16) (3.1.43)\n",
      "Requirement already satisfied: opentelemetry-api<3,>=1.9.0 in /home/ec2-user/anaconda3/envs/python3/lib/python3.10/site-packages (from mlflow-skinny==2.18.0->mlflow>=2.8->sagemaker-mlflow->sagemaker->cohere-aws==0.8.16) (1.28.1)\n",
      "Requirement already satisfied: opentelemetry-sdk<3,>=1.9.0 in /home/ec2-user/anaconda3/envs/python3/lib/python3.10/site-packages (from mlflow-skinny==2.18.0->mlflow>=2.8->sagemaker-mlflow->sagemaker->cohere-aws==0.8.16) (1.28.1)\n",
      "Requirement already satisfied: sqlparse<1,>=0.4.0 in /home/ec2-user/anaconda3/envs/python3/lib/python3.10/site-packages (from mlflow-skinny==2.18.0->mlflow>=2.8->sagemaker-mlflow->sagemaker->cohere-aws==0.8.16) (0.5.2)\n",
      "Requirement already satisfied: annotated-types>=0.6.0 in /home/ec2-user/anaconda3/envs/python3/lib/python3.10/site-packages (from pydantic<3.0.0,>=1.7.0->sagemaker-core<2.0.0,>=1.0.0->sagemaker->cohere-aws==0.8.16) (0.7.0)\n",
      "Requirement already satisfied: pydantic-core==2.23.4 in /home/ec2-user/anaconda3/envs/python3/lib/python3.10/site-packages (from pydantic<3.0.0,>=1.7.0->sagemaker-core<2.0.0,>=1.0.0->sagemaker->cohere-aws==0.8.16) (2.23.4)\n",
      "Requirement already satisfied: typing-extensions>=4.6.1 in /home/ec2-user/anaconda3/envs/python3/lib/python3.10/site-packages (from pydantic<3.0.0,>=1.7.0->sagemaker-core<2.0.0,>=1.0.0->sagemaker->cohere-aws==0.8.16) (4.12.2)\n",
      "Requirement already satisfied: markdown-it-py>=2.2.0 in /home/ec2-user/anaconda3/envs/python3/lib/python3.10/site-packages (from rich<14.0.0,>=13.0.0->sagemaker-core<2.0.0,>=1.0.0->sagemaker->cohere-aws==0.8.16) (3.0.0)\n",
      "Requirement already satisfied: pygments<3.0.0,>=2.13.0 in /home/ec2-user/anaconda3/envs/python3/lib/python3.10/site-packages (from rich<14.0.0,>=13.0.0->sagemaker-core<2.0.0,>=1.0.0->sagemaker->cohere-aws==0.8.16) (2.18.0)\n",
      "Requirement already satisfied: Mako in /home/ec2-user/anaconda3/envs/python3/lib/python3.10/site-packages (from alembic!=1.10.0,<2->mlflow>=2.8->sagemaker-mlflow->sagemaker->cohere-aws==0.8.16) (1.3.6)\n",
      "Requirement already satisfied: Werkzeug>=3.0.0 in /home/ec2-user/anaconda3/envs/python3/lib/python3.10/site-packages (from Flask<4->mlflow>=2.8->sagemaker-mlflow->sagemaker->cohere-aws==0.8.16) (3.0.4)\n",
      "Requirement already satisfied: itsdangerous>=2.1.2 in /home/ec2-user/anaconda3/envs/python3/lib/python3.10/site-packages (from Flask<4->mlflow>=2.8->sagemaker-mlflow->sagemaker->cohere-aws==0.8.16) (2.2.0)\n",
      "Requirement already satisfied: blinker>=1.6.2 in /home/ec2-user/anaconda3/envs/python3/lib/python3.10/site-packages (from Flask<4->mlflow>=2.8->sagemaker-mlflow->sagemaker->cohere-aws==0.8.16) (1.8.2)\n",
      "Requirement already satisfied: graphql-core<3.3,>=3.1 in /home/ec2-user/anaconda3/envs/python3/lib/python3.10/site-packages (from graphene<4->mlflow>=2.8->sagemaker-mlflow->sagemaker->cohere-aws==0.8.16) (3.2.5)\n",
      "Requirement already satisfied: graphql-relay<3.3,>=3.1 in /home/ec2-user/anaconda3/envs/python3/lib/python3.10/site-packages (from graphene<4->mlflow>=2.8->sagemaker-mlflow->sagemaker->cohere-aws==0.8.16) (3.2.0)\n",
      "Requirement already satisfied: MarkupSafe>=2.0 in /home/ec2-user/anaconda3/envs/python3/lib/python3.10/site-packages (from Jinja2<4,>=2.11->mlflow>=2.8->sagemaker-mlflow->sagemaker->cohere-aws==0.8.16) (3.0.2)\n",
      "Requirement already satisfied: mdurl~=0.1 in /home/ec2-user/anaconda3/envs/python3/lib/python3.10/site-packages (from markdown-it-py>=2.2.0->rich<14.0.0,>=13.0.0->sagemaker-core<2.0.0,>=1.0.0->sagemaker->cohere-aws==0.8.16) (0.1.2)\n",
      "Requirement already satisfied: contourpy>=1.0.1 in /home/ec2-user/anaconda3/envs/python3/lib/python3.10/site-packages (from matplotlib<4->mlflow>=2.8->sagemaker-mlflow->sagemaker->cohere-aws==0.8.16) (1.3.0)\n",
      "Requirement already satisfied: cycler>=0.10 in /home/ec2-user/anaconda3/envs/python3/lib/python3.10/site-packages (from matplotlib<4->mlflow>=2.8->sagemaker-mlflow->sagemaker->cohere-aws==0.8.16) (0.12.1)\n",
      "Requirement already satisfied: fonttools>=4.22.0 in /home/ec2-user/anaconda3/envs/python3/lib/python3.10/site-packages (from matplotlib<4->mlflow>=2.8->sagemaker-mlflow->sagemaker->cohere-aws==0.8.16) (4.54.1)\n",
      "Requirement already satisfied: kiwisolver>=1.3.1 in /home/ec2-user/anaconda3/envs/python3/lib/python3.10/site-packages (from matplotlib<4->mlflow>=2.8->sagemaker-mlflow->sagemaker->cohere-aws==0.8.16) (1.4.7)\n",
      "Requirement already satisfied: pillow>=8 in /home/ec2-user/anaconda3/envs/python3/lib/python3.10/site-packages (from matplotlib<4->mlflow>=2.8->sagemaker-mlflow->sagemaker->cohere-aws==0.8.16) (11.0.0)\n",
      "Requirement already satisfied: pyparsing>=2.3.1 in /home/ec2-user/anaconda3/envs/python3/lib/python3.10/site-packages (from matplotlib<4->mlflow>=2.8->sagemaker-mlflow->sagemaker->cohere-aws==0.8.16) (3.2.0)\n",
      "Requirement already satisfied: joblib>=1.2.0 in /home/ec2-user/anaconda3/envs/python3/lib/python3.10/site-packages (from scikit-learn<2->mlflow>=2.8->sagemaker-mlflow->sagemaker->cohere-aws==0.8.16) (1.4.2)\n",
      "Requirement already satisfied: threadpoolctl>=3.1.0 in /home/ec2-user/anaconda3/envs/python3/lib/python3.10/site-packages (from scikit-learn<2->mlflow>=2.8->sagemaker-mlflow->sagemaker->cohere-aws==0.8.16) (3.5.0)\n",
      "Requirement already satisfied: greenlet!=0.4.17 in /home/ec2-user/anaconda3/envs/python3/lib/python3.10/site-packages (from sqlalchemy<3,>=1.4.0->mlflow>=2.8->sagemaker-mlflow->sagemaker->cohere-aws==0.8.16) (3.1.1)\n",
      "Requirement already satisfied: google-auth~=2.0 in /home/ec2-user/anaconda3/envs/python3/lib/python3.10/site-packages (from databricks-sdk<1,>=0.20.0->mlflow-skinny==2.18.0->mlflow>=2.8->sagemaker-mlflow->sagemaker->cohere-aws==0.8.16) (2.36.0)\n",
      "Requirement already satisfied: gitdb<5,>=4.0.1 in /home/ec2-user/anaconda3/envs/python3/lib/python3.10/site-packages (from gitpython<4,>=3.1.9->mlflow-skinny==2.18.0->mlflow>=2.8->sagemaker-mlflow->sagemaker->cohere-aws==0.8.16) (4.0.11)\n",
      "Requirement already satisfied: deprecated>=1.2.6 in /home/ec2-user/anaconda3/envs/python3/lib/python3.10/site-packages (from opentelemetry-api<3,>=1.9.0->mlflow-skinny==2.18.0->mlflow>=2.8->sagemaker-mlflow->sagemaker->cohere-aws==0.8.16) (1.2.14)\n",
      "Requirement already satisfied: opentelemetry-semantic-conventions==0.49b1 in /home/ec2-user/anaconda3/envs/python3/lib/python3.10/site-packages (from opentelemetry-sdk<3,>=1.9.0->mlflow-skinny==2.18.0->mlflow>=2.8->sagemaker-mlflow->sagemaker->cohere-aws==0.8.16) (0.49b1)\n",
      "Requirement already satisfied: wrapt<2,>=1.10 in /home/ec2-user/anaconda3/envs/python3/lib/python3.10/site-packages (from deprecated>=1.2.6->opentelemetry-api<3,>=1.9.0->mlflow-skinny==2.18.0->mlflow>=2.8->sagemaker-mlflow->sagemaker->cohere-aws==0.8.16) (1.16.0)\n",
      "Requirement already satisfied: smmap<6,>=3.0.1 in /home/ec2-user/anaconda3/envs/python3/lib/python3.10/site-packages (from gitdb<5,>=4.0.1->gitpython<4,>=3.1.9->mlflow-skinny==2.18.0->mlflow>=2.8->sagemaker-mlflow->sagemaker->cohere-aws==0.8.16) (5.0.1)\n",
      "Requirement already satisfied: pyasn1-modules>=0.2.1 in /home/ec2-user/anaconda3/envs/python3/lib/python3.10/site-packages (from google-auth~=2.0->databricks-sdk<1,>=0.20.0->mlflow-skinny==2.18.0->mlflow>=2.8->sagemaker-mlflow->sagemaker->cohere-aws==0.8.16) (0.4.1)\n",
      "Requirement already satisfied: rsa<5,>=3.1.4 in /home/ec2-user/anaconda3/envs/python3/lib/python3.10/site-packages (from google-auth~=2.0->databricks-sdk<1,>=0.20.0->mlflow-skinny==2.18.0->mlflow>=2.8->sagemaker-mlflow->sagemaker->cohere-aws==0.8.16) (4.7.2)\n",
      "Requirement already satisfied: pyasn1<0.7.0,>=0.4.6 in /home/ec2-user/anaconda3/envs/python3/lib/python3.10/site-packages (from pyasn1-modules>=0.2.1->google-auth~=2.0->databricks-sdk<1,>=0.20.0->mlflow-skinny==2.18.0->mlflow>=2.8->sagemaker-mlflow->sagemaker->cohere-aws==0.8.16) (0.6.1)\n",
      "Installing collected packages: cohere-aws\n",
      "  Attempting uninstall: cohere-aws\n",
      "    Found existing installation: cohere-aws 0.8.18\n",
      "    Uninstalling cohere-aws-0.8.18:\n",
      "      Successfully uninstalled cohere-aws-0.8.18\n",
      "Successfully installed cohere-aws-0.8.16\n",
      "\u001b[31mERROR: pip's dependency resolver does not currently take into account all the packages that are installed. This behaviour is the source of the following dependency conflicts.\n",
      "awscli 1.36.4 requires botocore==1.35.63, but you have botocore 1.36.26 which is incompatible.\n",
      "awscli 1.36.4 requires s3transfer<0.11.0,>=0.10.0, but you have s3transfer 0.11.2 which is incompatible.\u001b[0m\u001b[31m\n",
      "\u001b[0m"
     ]
    }
   ],
   "source": [
    "!pip install wikipedia==1.4.0 --quiet\n",
    "!pip install --upgrade setuptools==69.5.1 wheel --quiet\n",
    "!pip install cohere-aws==0.8.16 \n",
    "!pip install faiss-cpu==1.8.0 --quiet\n",
    "!pip install langchain-text-splitters==0.2.2 --quiet\n",
    "!pip install numpy==1.26.4 --quiet\n",
    "!pip install --upgrade cohere-aws cohere hnswlib pandas numpy markdown boto3 -q"
   ]
  },
  {
   "cell_type": "code",
   "execution_count": 2,
   "metadata": {
    "tags": []
   },
   "outputs": [
    {
     "name": "stdout",
     "output_type": "stream",
     "text": [
      "sagemaker.config INFO - Not applying SDK defaults from location: /etc/xdg/sagemaker/config.yaml\n",
      "sagemaker.config INFO - Not applying SDK defaults from location: /home/ec2-user/.config/sagemaker/config.yaml\n"
     ]
    }
   ],
   "source": [
    "import boto3\n",
    "import cohere_aws\n",
    "#from cohere_aws import Client\n",
    "import faiss\n",
    "import json\n",
    "from langchain_text_splitters import RecursiveCharacterTextSplitter\n",
    "import numpy as np\n",
    "import re\n",
    "import wikipedia"
   ]
  },
  {
   "cell_type": "markdown",
   "metadata": {
    "id": "nSB0pnt0gbOo"
   },
   "source": [
    "## Step 2 - Downloading dataset\n",
    "\n",
    "To get started, we'll leverage data from wikipedia to answer questions about the diverse culinary traditions. In this notebook we will focus on the English language."
   ]
  },
  {
   "cell_type": "markdown",
   "metadata": {},
   "source": [
    "### USA - English"
   ]
  },
  {
   "cell_type": "code",
   "execution_count": 3,
   "metadata": {
    "tags": []
   },
   "outputs": [],
   "source": [
    "# English\n",
    "wikipedia.set_lang('en')"
   ]
  },
  {
   "cell_type": "code",
   "execution_count": 4,
   "metadata": {
    "colab": {
     "base_uri": "https://localhost:8080/"
    },
    "id": "xP-bWt9XgbOq",
    "outputId": "72276fb2-0d6b-415d-af74-452a013ae84b",
    "tags": []
   },
   "outputs": [
    {
     "name": "stdout",
     "output_type": "stream",
     "text": [
      "The text has roughly 19081 words.\n"
     ]
    }
   ],
   "source": [
    "# we'll get some wikipedia data\n",
    "article = wikipedia.page('American Cuisine')\n",
    "en_text = article.content\n",
    "print(f\"The text has roughly {len(en_text.split())} words.\")"
   ]
  },
  {
   "cell_type": "code",
   "execution_count": 5,
   "metadata": {
    "tags": []
   },
   "outputs": [
    {
     "name": "stdout",
     "output_type": "stream",
     "text": [
      "American cuisine consists of the cooking style and traditional dishes prepared in the United States. It has been significantly influenced by Europeans, Indigenous Americans, Africans, Latin Americans, Asians, Pacific Islanders, and many other cultures and traditions. Principal influences on American cuisine are European, Native American, soul food, regional heritages including Cajun, Louisiana Creole, Pennsylvania Dutch, Mormon foodways, Texan, Tex-Mex, New Mexican, and Tlingit, and the cuisines of immigrant groups such as Chinese American, German American, Italian American, Greek American, Jewish American, and Mexican American. The large size of America and its long history of immigration have created an especially diverse cuisine that varies by region. \n",
      "American cooking dates back to the traditions of the Native Americans, whose diet included a mix of farmed and hunted food, and varied widely across the continent. The Colonial period created a mix of new world and Old World cookery, \n"
     ]
    }
   ],
   "source": [
    "print(en_text[0:1000])"
   ]
  },
  {
   "cell_type": "markdown",
   "metadata": {
    "id": "-1aJ7hKGgbOr"
   },
   "source": [
    "## Step 3 - Vector Indexing\n",
    "\n",
    "We index the document in an open-source vectorstore called FAISS. This requires chunking the documents, creating embeddings, and indexing them into FAISS.\n",
    "\n",
    "To efficiently store and retrieve relevant information from our multilingual data, we will leverage [FAISS](https://ai.meta.com/tools/faiss/) (Facebook AI Similarity Search), an open-source library for efficient similarity search and clustering of dense vectors. FAISS allows us to index and search large collections of embeddings, enabling quick retrieval of the most relevant documents or passages based on their vector representations. \n",
    "\n",
    "Our process involves chunking the retrieved documents into smaller, more manageable segments, creating dense vector embeddings for each chunk using Cohere's Embed Multilingual V3, and indexing these embeddings into FAISS. \n",
    "\n",
    "By utilizing FAISS's powerful similarity search capabilities, we can quickly identify the most relevant chunks of information based on their semantic similarity to a given query or context. This approach not only facilitates efficient information retrieval but also unlocks the potential for advanced applications such as semantic search, question answering, and knowledge base construction from multilingual sources. FAISS's scalability and performance make it an ideal choice for handling large volumes of embeddings, ensuring responsive and accurate results even with extensive multilingual data."
   ]
  },
  {
   "cell_type": "code",
   "execution_count": 6,
   "metadata": {
    "colab": {
     "base_uri": "https://localhost:8080/"
    },
    "id": "uhXW7iHC1-Q6",
    "outputId": "d68ac348-4b73-4c6a-a445-6c510bdb0881",
    "tags": []
   },
   "outputs": [],
   "source": [
    "# For chunking let's use langchain to help us split the text\n",
    "def get_chunks(text):\n",
    "    text_splitter = RecursiveCharacterTextSplitter(\n",
    "        chunk_size=512, # Limiting chunk size for embedding model\n",
    "        chunk_overlap=50,\n",
    "        length_function=len,\n",
    "        is_separator_regex=False,\n",
    "    )\n",
    "\n",
    "    # Split the text into chunks with some overlap\n",
    "    chunks_ = text_splitter.create_documents([text])\n",
    "    chunks = [c.page_content for c in chunks_]\n",
    "    \n",
    "    return chunks"
   ]
  },
  {
   "cell_type": "code",
   "execution_count": 7,
   "metadata": {
    "tags": []
   },
   "outputs": [
    {
     "name": "stdout",
     "output_type": "stream",
     "text": [
      "The text has been broken down in 362 chunks.\n"
     ]
    }
   ],
   "source": [
    "en_chunks = get_chunks(en_text)\n",
    "print(f\"The text has been broken down in {len(en_chunks)} chunks.\")"
   ]
  },
  {
   "cell_type": "markdown",
   "metadata": {
    "id": "P8g0sE2hgbOs"
   },
   "source": [
    "### Create embeddings for every text chunk"
   ]
  },
  {
   "cell_type": "code",
   "execution_count": 8,
   "metadata": {
    "tags": []
   },
   "outputs": [],
   "source": [
    "def generate_embeddings(\n",
    "    bedrock_client,\n",
    "    model_id,\n",
    "    texts,\n",
    "    batch_size=50\n",
    "):\n",
    "    \"\"\"\n",
    "    Convert text into embeddings.\n",
    "    Args:\n",
    "        bedrock_client: The Boto3 Bedrock runtime client.\n",
    "        model_id (str): The model ID to use.\n",
    "        texts (list) : The texts to send to the embedding model.\n",
    "        batch_size (int): Batch size to limit the number of chunks sent to the embedding model.\n",
    "\n",
    "    Returns:\n",
    "        response (JSON): The embeddings that the model generated.\n",
    "    \"\"\"\n",
    "    \n",
    "    embeddings = []\n",
    "    for i in range(0, len(texts), batch_size):\n",
    "        batch_texts = texts[i:i+batch_size]\n",
    "        body = {\n",
    "            \"texts\": batch_texts,\n",
    "            \"input_type\": \"search_document\"\n",
    "        }\n",
    "        # Send the message.\n",
    "        response = bedrock_client.invoke_model(modelId=model_id, body=json.dumps(body))\n",
    "\n",
    "        response_body = json.loads(response.get('body').read())\n",
    "        \n",
    "        embeddings.extend(response_body[\"embeddings\"])\n",
    "\n",
    "    return embeddings"
   ]
  },
  {
   "cell_type": "code",
   "execution_count": 9,
   "metadata": {
    "tags": []
   },
   "outputs": [],
   "source": [
    "# Define bedrock client\n",
    "bedrock_client = boto3.client(service_name='bedrock-runtime', region_name=\"us-west-2\")"
   ]
  },
  {
   "cell_type": "code",
   "execution_count": 10,
   "metadata": {
    "tags": []
   },
   "outputs": [
    {
     "name": "stdout",
     "output_type": "stream",
     "text": [
      "We just computed 362 embeddings.\n"
     ]
    }
   ],
   "source": [
    "en_embeddings = generate_embeddings(bedrock_client, \"cohere.embed-multilingual-v3\", en_chunks)\n",
    "print(f\"We just computed {len(en_embeddings)} embeddings.\")"
   ]
  },
  {
   "cell_type": "markdown",
   "metadata": {
    "id": "HM6vKeypgbOs"
   },
   "source": [
    "### Store embeddings into FAISS"
   ]
  },
  {
   "cell_type": "code",
   "execution_count": 11,
   "metadata": {
    "tags": []
   },
   "outputs": [],
   "source": [
    "# Create an index\n",
    "en_vectorstore = faiss.IndexFlatL2(1024)\n",
    "\n",
    "# Add data to the index\n",
    "en_vectorstore.add(np.array(en_embeddings))"
   ]
  },
  {
   "cell_type": "markdown",
   "metadata": {
    "id": "q6NGVurZgbOs"
   },
   "source": [
    "## Step 4: RAG: Retrieve relevant chunks from the vector database\n",
    "\n",
    "Retrieval-Augmented Generation (RAG) is a powerful approach that combines the strengths of retrieval and generation models for natural language processing tasks. In this approach, we first utilize an embedding model to identify relevant information from FAISS based on the input query. The retrieved information is then incorporated into a large language model, like Cohere's Command R+, which uses this additional context to generate more informed and accurate outputs. By leveraging the vast knowledge contained in multilingual sources, RAG enables us to produce high-quality, factual responses that go beyond the model's initial training data. This approach is particularly valuable for tasks like question answering, where relevant external knowledge can significantly improve the quality and completeness of the generated responses."
   ]
  },
  {
   "cell_type": "markdown",
   "metadata": {},
   "source": [
    "### Define utility function for RAG"
   ]
  },
  {
   "cell_type": "code",
   "execution_count": 12,
   "metadata": {
    "tags": []
   },
   "outputs": [],
   "source": [
    "def rag(vectorstore, question, chunks, k=4):\n",
    "    # Embed the user question\n",
    "    query = generate_embeddings(bedrock_client, \"cohere.embed-multilingual-v3\", [question])\n",
    "    \n",
    "    # Retrieve the top K indices from the vector database\n",
    "    D, top_indices = vectorstore.search(np.array(query), k)\n",
    "    \n",
    "    top_indices.sort()\n",
    "    \n",
    "    # Retrieve the top K most similar chunks\n",
    "    top_chunks_after_retrieval = [re.sub(r\"\\t+|\\n+\", \"\", chunks[i]) for i in top_indices[0]]\n",
    "    \n",
    "    return top_chunks_after_retrieval"
   ]
  },
  {
   "cell_type": "markdown",
   "metadata": {},
   "source": [
    "### Define utility function for conversation with Bedrock converse API"
   ]
  },
  {
   "cell_type": "code",
   "execution_count": 13,
   "metadata": {},
   "outputs": [],
   "source": [
    "def generate_conversation(\n",
    "    bedrock_client,\n",
    "    model_id,\n",
    "    system_prompt,\n",
    "    prompt,\n",
    "    chat_history=[],\n",
    "    temperature=0.3,\n",
    "    max_tokens=400,\n",
    "    top_p=0.95\n",
    "):\n",
    "    \"\"\"\n",
    "    Sends messages to a model.\n",
    "    Args:\n",
    "        bedrock_client: The Boto3 Bedrock runtime client.\n",
    "        model_id (str): The model ID to use.\n",
    "        system_prompt (str) : The system prompt for the model to use.\n",
    "        prompt (str) : The message/question to send to the model.\n",
    "        chat_history (list): The chat history from user and assistant.\n",
    "\n",
    "    Returns:\n",
    "        response (str): The text generated output from the model.\n",
    "        chat_history (str): The full conversation between user and assistant that the model generated.\n",
    "\n",
    "    \"\"\"\n",
    "\n",
    "    system_prompts = [\n",
    "        {\n",
    "            \"text\": system_prompt\n",
    "        }\n",
    "    ]\n",
    "\n",
    "    messages = [\n",
    "        {\n",
    "            \"role\": \"user\",\n",
    "            \"content\": [{\"text\": prompt}]\n",
    "        }\n",
    "    ]\n",
    "\n",
    "    chat_history.extend(messages)\n",
    "\n",
    "    # Base inference parameters.\n",
    "    inference_config = {\n",
    "        \"temperature\": temperature,\n",
    "        \"maxTokens\": max_tokens,\n",
    "        \"topP\": top_p,\n",
    "    }\n",
    "\n",
    "    # Additional inference parameters to use.\n",
    "    additional_model_fields = {}\n",
    "\n",
    "    # Send the message.\n",
    "    response = bedrock_client.converse(\n",
    "        modelId=model_id,\n",
    "        messages=messages,\n",
    "        system=system_prompts,\n",
    "        inferenceConfig=inference_config,\n",
    "        additionalModelRequestFields=additional_model_fields\n",
    "    )\n",
    "\n",
    "    chat_history.append(response[\"output\"][\"message\"])\n",
    "\n",
    "    return response[\"output\"][\"message\"][\"content\"][0][\"text\"], chat_history"
   ]
  },
  {
   "cell_type": "markdown",
   "metadata": {},
   "source": [
    "### Define the system prompt and guardrails"
   ]
  },
  {
   "cell_type": "code",
   "execution_count": 14,
   "metadata": {},
   "outputs": [],
   "source": [
    "system_prompt = \"\"\"You are an AI assistant with expertise in American cuisine. Your knowledge is based solely on the information provided between the <documents> and </documents> tags.\n",
    "\n",
    "Before answering any questions, first check if the user has provided information between the <documents> and </documents> tags. If no information is provided, respond with the following JSON:\n",
    "\n",
    "{\n",
    "    \"answer\": \"I do not have enough information to answer that question.\"\n",
    "}\n",
    "\n",
    "If documents are provided, your task is to answer questions accurately and concisely, using only the details from the given documents. Do not use your own knowledge or any external sources to answer the questions, even if you know the answer.\n",
    "\n",
    "If a question cannot be fully answered using the provided documents, respond with the following JSON:\n",
    "\n",
    "{\n",
    "    \"answer\": \"I do not have enough information to answer that question.\"\n",
    "}\n",
    "\n",
    "All responses must be in valid JSON format, with the 'answer' key containing the actual response text.\n",
    "\n",
    "To provide transparency, include your reasoning process with the 'thinking' key as the following format:\n",
    "\n",
    "{\n",
    "    \"answer\": \"Your response here\",\n",
    "    \"thinking\": \"Your reasoning process here\"\n",
    "}\n",
    "\n",
    "Be concise and objective in your responses, without any personal opinions or subjective statements.\n",
    "\"\"\"\n",
    "prompt_template = \"<documents>\\n{documents}\\n</documents>\\n\\nQuestion: {question}\\nThink step-by-step.\""
   ]
  },
  {
   "cell_type": "markdown",
   "metadata": {},
   "source": [
    "### Define model ID parameter"
   ]
  },
  {
   "cell_type": "code",
   "execution_count": 15,
   "metadata": {
    "tags": []
   },
   "outputs": [],
   "source": [
    "model_id = \"cohere.command-r-plus-v1:0\""
   ]
  },
  {
   "cell_type": "markdown",
   "metadata": {},
   "source": [
    "### Test guardrails"
   ]
  },
  {
   "cell_type": "code",
   "execution_count": 16,
   "metadata": {
    "id": "Y2HTxspKgbOs"
   },
   "outputs": [],
   "source": [
    "chat_history = []\n",
    "question = \"What are some popular regional dishes in American cuisine?\""
   ]
  },
  {
   "cell_type": "code",
   "execution_count": 17,
   "metadata": {
    "tags": []
   },
   "outputs": [
    {
     "name": "stdout",
     "output_type": "stream",
     "text": [
      "{\n",
      "    \"answer\": \"I do not have enough information to answer that question.\"\n",
      "}\n"
     ]
    }
   ],
   "source": [
    "prompt = prompt_template.format(documents=\"\", question=question)\n",
    "\n",
    "response, chat_history = generate_conversation(\n",
    "    bedrock_client,\n",
    "    model_id,\n",
    "    system_prompt,\n",
    "    prompt,\n",
    "    chat_history\n",
    ")\n",
    "print(response)"
   ]
  },
  {
   "cell_type": "markdown",
   "metadata": {},
   "source": [
    "### Retrieved top K most relevant chunks from FAISS"
   ]
  },
  {
   "cell_type": "code",
   "execution_count": 18,
   "metadata": {
    "tags": []
   },
   "outputs": [],
   "source": [
    "# Setting number of nearest neighbours\n",
    "k = 4"
   ]
  },
  {
   "cell_type": "code",
   "execution_count": 19,
   "metadata": {
    "tags": []
   },
   "outputs": [
    {
     "name": "stdout",
     "output_type": "stream",
     "text": [
      "Here are the top 4 chunks after retrieval: \n",
      "== American cuisine consists of the cooking style and traditional dishes prepared in the United States. It has been significantly influenced by Europeans, Indigenous Americans, Africans, Latin Americans, Asians, Pacific Islanders, and many other cultures and traditions. Principal influences on American cuisine are European, Native American, soul food, regional heritages including Cajun, Louisiana Creole, Pennsylvania Dutch, Mormon foodways, Texan, Tex-Mex, New Mexican, and Tlingit, and the cuisines of\n",
      "== Highlights of American cuisine include milkshakes, barbecue, and a wide range of fried foods. Many quintessential American dishes are unique takes on food originally from other culinary traditions, including pizza, hot dogs, and Tex-Mex. Regional highlights include a range of fish dishes in the coastal states, gumbo, and cheesesteak. American cuisine has specific foods that are eaten on holidays, such as a turkey at Thanksgiving dinner or Christmas dinner. Modern American cuisine includes a focus on fast\n",
      "== == Regional cuisines ==In the present day, the modern cuisine of the United States is very regional in nature. Excluding Alaska and Hawaii, the terrain spans 3,000 miles (4,800 km) from east to west and more than 1,000 miles (1,600 km) from north to south.=== Northeast ======= New England ====\n",
      "== === Common dishes found on a regional level ===== Ethnicity-specific and immigrant influence ==\n"
     ]
    }
   ],
   "source": [
    "top_chunks_after_retrieval = rag(en_vectorstore, question, en_chunks, k)\n",
    "\n",
    "print(f\"Here are the top {k} chunks after retrieval: \")\n",
    "for t in top_chunks_after_retrieval:\n",
    "    print(\"== \" + t)"
   ]
  },
  {
   "cell_type": "code",
   "execution_count": 20,
   "metadata": {
    "tags": []
   },
   "outputs": [
    {
     "name": "stdout",
     "output_type": "stream",
     "text": [
      "{\n",
      "    \"answer\": \"Some popular regional dishes in American cuisine include:\n",
      "- Various fish dishes in coastal states\n",
      "- Gumbo\n",
      "- Cheesesteak\n",
      "- New England specialties\n",
      "- Cajun and Louisiana Creole cuisine\n",
      "- Tex-Mex\n",
      "- Barbecue\",\n",
      "    \"thinking\": \"The documents mention several regional dishes and cuisines within the United States. These include fish dishes from coastal states, gumbo, cheesesteak, New England specialties, and influences from Cajun, Louisiana Creole, and Tex-Mex cultures.\"\n",
      "}\n"
     ]
    }
   ],
   "source": [
    "chat_history = []\n",
    "prompt = prompt_template.format(documents=top_chunks_after_retrieval, question=question)\n",
    "\n",
    "response, chat_history = generate_conversation(\n",
    "    bedrock_client,\n",
    "    model_id,\n",
    "    system_prompt,\n",
    "    prompt,\n",
    "    chat_history\n",
    ")\n",
    "print(response)"
   ]
  },
  {
   "cell_type": "markdown",
   "metadata": {},
   "source": [
    "### Add Rerank to the RAG pipeline"
   ]
  },
  {
   "cell_type": "code",
   "execution_count": 21,
   "metadata": {},
   "outputs": [],
   "source": [
    "# Setting number of nearest neighbours\n",
    "k = 15"
   ]
  },
  {
   "cell_type": "markdown",
   "metadata": {},
   "source": [
    "<b>Search result for the top 15 results using Embeddings only<b>"
   ]
  },
  {
   "cell_type": "code",
   "execution_count": 22,
   "metadata": {},
   "outputs": [
    {
     "name": "stdout",
     "output_type": "stream",
     "text": [
      "Here are the top 15 chunks after retrieval: \n",
      "## \n",
      " American cuisine consists of the cooking style and traditional dishes prepared in the United States. It has been significantly influenced by Europeans, Indigenous Americans, Africans, Latin Americans, Asians, Pacific Islanders, and many other cultures and traditions. Principal influences on American cuisine are European, Native American, soul food, regional heritages including Cajun, Louisiana Creole, Pennsylvania Dutch, Mormon foodways, Texan, Tex-Mex, New Mexican, and Tlingit, and the cuisines of\n",
      "## \n",
      " New Mexican, and Tlingit, and the cuisines of immigrant groups such as Chinese American, German American, Italian American, Greek American, Jewish American, and Mexican American. The large size of America and its long history of immigration have created an especially diverse cuisine that varies by region.\n",
      "## \n",
      " Highlights of American cuisine include milkshakes, barbecue, and a wide range of fried foods. Many quintessential American dishes are unique takes on food originally from other culinary traditions, including pizza, hot dogs, and Tex-Mex. Regional highlights include a range of fish dishes in the coastal states, gumbo, and cheesesteak. American cuisine has specific foods that are eaten on holidays, such as a turkey at Thanksgiving dinner or Christmas dinner. Modern American cuisine includes a focus on fast\n",
      "## \n",
      " Modern American cuisine includes a focus on fast food, as well as take-out food, which is often ethnic. There is also a vibrant culinary scene in the country surrounding televised celebrity chefs.\n",
      "## \n",
      " == Regional cuisines ==In the present day, the modern cuisine of the United States is very regional in nature. Excluding Alaska and Hawaii, the terrain spans 3,000 miles (4,800 km) from east to west and more than 1,000 miles (1,600 km) from north to south.=== Northeast ======= New England ====\n",
      "## \n",
      " The influences on cuisine in this region are extremely eclectic, as it has been, and continues to be, a gateway for international culture as well as a gateway for new immigrants. Going back to colonial times, each new group has left their mark on homegrown cuisine and in turn the cities in this region disperse trends to the wider United States. In addition, cities like New York and Philadelphia have had the past influence of Dutch, Italian, German, Irish, British, and Jewish cuisines, and that continues to\n",
      "## \n",
      " This section of the country has some of the oldest known U.S. foodways, with some recipes almost 400 years old.\n",
      "## \n",
      " ==== Florida cuisine ====\n",
      "## \n",
      " === Pacific and Hawaiian cuisine ===\n",
      "## \n",
      " === Common dishes found on a regional level ===== Ethnicity-specific and immigrant influence ==\n",
      "## \n",
      " The various ethnicities originating from the early gastronomy and cuisines of the New World, Latin American cuisine, and North American cuisine:Native Americans in the United States and Native American cuisineAfrican Americans and Soul food.Puerto Rican cuisineMexican Americans and Mexican-American cuisine; as well as related regional cuisines:Tex-Mex (regional Texas and Mexican fusion)Some aspects of \"Southwestern cuisine\".\n",
      "## \n",
      " === Desserts ===A classic American dessert is apple pie. Some other famous American desserts are banana split, Boston cream pie, key lime pie, and bananas foster. Other famous American desserts are chocolate chip cookies, pecan pie, carrot cake, banana pudding, S'more, black and white cookies, pumpkin pie, coconut cake, funnel cake, brownies and red velvet cake.== Influential figures and American cuisine on television ==\n",
      "## \n",
      " === Regional cuisine chefs ===Regional chefs are emerging as localized celebrity chefs with growing broader appeal, such as Peter Merriman (Hawaii Regional Cuisine), Roy Choi (Korean American Cuisine), Jerry Traunfeld, Alan Wong (Pacific Rim cuisine), Rick Bayless and Daniela Soto-Innes (traditional Mexican cuisine with modern interpretations), Norman Van Aken (New World Cuisine – fusion Latin, Caribbean, Asian, African and American), and Mark Miller (American Southwest cuisine).== See also ==\n",
      "## \n",
      " == See also ==Cuisine of the AmericasIndigenous cuisine of the AmericasSoul food=== Types ===American wine=== Regional ===Cuisine of CaliforniaCuisine of MinnesotaCuisine of New EnglandCuisine of New York CityCuisine of the Southern United StatesCuisine of AtlantaCuisine of HoustonCuisine of KentuckyTex-Mex cuisine=== Ethnic ===American Chinese cuisineMexican-American cuisineItalian-American cuisineGreek-American cuisinePuerto Rican cuisine\n",
      "## \n",
      " === Other ===High on the Hog: How African American Cuisine Transformed AmericaCuisine of Antebellum AmericaList of American dessertsList of American breadsBread in American cuisineList of American foodsList of American regional and fusion cuisinesList of American breakfast foodsTlingit cuisineCuisine of the AmericasCuisine of the Pennsylvania DutchCuisine of the Southern United StatesCulture of Guam § CuisineAmerican tea culture== References ==\n"
     ]
    }
   ],
   "source": [
    "top_chunks_after_retrieval = rag(en_vectorstore, question, en_chunks, k)\n",
    "\n",
    "print(f\"Here are the top {k} chunks after retrieval: \")\n",
    "for t in top_chunks_after_retrieval:\n",
    "    print(\"## \\n \" + t)"
   ]
  },
  {
   "cell_type": "markdown",
   "metadata": {},
   "source": [
    "<b>Define Bedrock runtime agent for Cohere Rerank<b>"
   ]
  },
  {
   "cell_type": "code",
   "execution_count": 23,
   "metadata": {},
   "outputs": [],
   "source": [
    "bedrock_agent_runtime = boto3.client('bedrock-agent-runtime',region_name='us-west-2')\n",
    "\n",
    "rerank_modelId = \"cohere.rerank-v3-5:0\"\n",
    "rerank_package_arn = f\"arn:aws:bedrock:us-west-2::foundation-model/{rerank_modelId}\""
   ]
  },
  {
   "cell_type": "code",
   "execution_count": 24,
   "metadata": {},
   "outputs": [],
   "source": [
    "def rerank_text(text_query, text_sources, num_results, model_package_arn):\n",
    "    response = bedrock_agent_runtime.rerank(\n",
    "        queries=[\n",
    "            {\n",
    "                \"type\": \"TEXT\",\n",
    "                \"textQuery\": {\n",
    "                    \"text\": text_query\n",
    "                }\n",
    "            }\n",
    "        ],\n",
    "        sources=text_sources,\n",
    "        rerankingConfiguration={\n",
    "            \"type\": \"BEDROCK_RERANKING_MODEL\",\n",
    "            \"bedrockRerankingConfiguration\": {\n",
    "                \"numberOfResults\": num_results,\n",
    "                \"modelConfiguration\": {\n",
    "                    \"modelArn\": model_package_arn,\n",
    "                }\n",
    "            }\n",
    "        }\n",
    "    )\n",
    "    return response['results']"
   ]
  },
  {
   "cell_type": "code",
   "execution_count": 25,
   "metadata": {},
   "outputs": [],
   "source": [
    "text_sources = []\n",
    "for text in top_chunks_after_retrieval:\n",
    "    text_sources.append({\n",
    "        \"type\": \"INLINE\",\n",
    "        \"inlineDocumentSource\": {\n",
    "            \"type\": \"TEXT\",\n",
    "            \"textDocument\": {\n",
    "                \"text\": text,\n",
    "            }\n",
    "        }\n",
    "    })"
   ]
  },
  {
   "cell_type": "markdown",
   "metadata": {},
   "source": [
    "<b>Search result for the top 15 results using Rerank as the 2nd step retrieval<b>"
   ]
  },
  {
   "cell_type": "code",
   "execution_count": 26,
   "metadata": {},
   "outputs": [
    {
     "name": "stdout",
     "output_type": "stream",
     "text": [
      "\tIndex:2 Relevance:0.8364614248275757\tHighlights of American cuisine include milkshakes, barbecue, and a wide range of fried foods. Many quintessential American dishes are unique takes on food originally from other culinary traditions, including pizza, hot dogs, and Tex-Mex. Regional highlights include a range of fish dishes in the coastal states, gumbo, and cheesesteak. American cuisine has specific foods that are eaten on holidays, such as a turkey at Thanksgiving dinner or Christmas dinner. Modern American cuisine includes a focus on fast\n",
      "\n",
      "\n",
      "\tIndex:0 Relevance:0.7409440875053406\tAmerican cuisine consists of the cooking style and traditional dishes prepared in the United States. It has been significantly influenced by Europeans, Indigenous Americans, Africans, Latin Americans, Asians, Pacific Islanders, and many other cultures and traditions. Principal influences on American cuisine are European, Native American, soul food, regional heritages including Cajun, Louisiana Creole, Pennsylvania Dutch, Mormon foodways, Texan, Tex-Mex, New Mexican, and Tlingit, and the cuisines of\n",
      "\n",
      "\n",
      "\tIndex:13 Relevance:0.5686320066452026\t== See also ==Cuisine of the AmericasIndigenous cuisine of the AmericasSoul food=== Types ===American wine=== Regional ===Cuisine of CaliforniaCuisine of MinnesotaCuisine of New EnglandCuisine of New York CityCuisine of the Southern United StatesCuisine of AtlantaCuisine of HoustonCuisine of KentuckyTex-Mex cuisine=== Ethnic ===American Chinese cuisineMexican-American cuisineItalian-American cuisineGreek-American cuisinePuerto Rican cuisine\n",
      "\n",
      "\n",
      "\tIndex:12 Relevance:0.5024175643920898\t=== Regional cuisine chefs ===Regional chefs are emerging as localized celebrity chefs with growing broader appeal, such as Peter Merriman (Hawaii Regional Cuisine), Roy Choi (Korean American Cuisine), Jerry Traunfeld, Alan Wong (Pacific Rim cuisine), Rick Bayless and Daniela Soto-Innes (traditional Mexican cuisine with modern interpretations), Norman Van Aken (New World Cuisine – fusion Latin, Caribbean, Asian, African and American), and Mark Miller (American Southwest cuisine).== See also ==\n",
      "\n",
      "\n",
      "\tIndex:4 Relevance:0.45362547039985657\t== Regional cuisines ==In the present day, the modern cuisine of the United States is very regional in nature. Excluding Alaska and Hawaii, the terrain spans 3,000 miles (4,800 km) from east to west and more than 1,000 miles (1,600 km) from north to south.=== Northeast ======= New England ====\n",
      "\n",
      "\n"
     ]
    }
   ],
   "source": [
    "response_rerank = rerank_text(question, text_sources, 5, rerank_package_arn)\n",
    "top_chunks_after_rerank = []\n",
    "for i in response_rerank:\n",
    "    top_chunks_after_rerank.append(top_chunks_after_retrieval[i['index']])\n",
    "    print(\"\\tIndex:{} Relevance:{}\\t{}\".format(i['index'],i['relevanceScore'],top_chunks_after_retrieval[i['index']]).replace(\"\\n\", \" \"))\n",
    "    print (\"\\n\")"
   ]
  },
  {
   "cell_type": "code",
   "execution_count": 27,
   "metadata": {},
   "outputs": [
    {
     "name": "stdout",
     "output_type": "stream",
     "text": [
      "```json\n",
      "{\n",
      "    \"answer\": \"Some popular regional dishes in American cuisine include gumbo, cheesesteak, and various fish dishes from the coastal states. Each region of the United States has its own distinct culinary offerings, with celebrity chefs like Peter Merriman showcasing Hawaii's regional cuisine and Roy Choi known for Korean American dishes.\",\n",
      "    \"thinking\": \"The documents mention regional dishes and highlight gumbo and cheesesteak as examples. It also mentions fish dishes in coastal states, and the regional nature of modern American cuisine, with celebrity chefs known for specific types of regional cuisine.\"\n",
      "}\n",
      "```\n"
     ]
    }
   ],
   "source": [
    "chat_history = []\n",
    "prompt = prompt_template.format(documents=top_chunks_after_rerank, question=question)\n",
    "\n",
    "response, chat_history = generate_conversation(\n",
    "    bedrock_client,\n",
    "    model_id,\n",
    "    system_prompt,\n",
    "    prompt,\n",
    "    chat_history\n",
    ")\n",
    "print(response)"
   ]
  },
  {
   "cell_type": "markdown",
   "metadata": {},
   "source": [
    "## Conclusion\n",
    "In this notebook we walked through how to leverage Cohere's Embed V3 multimodal model and Rerank as part of your RAG workflow to achieve more precise search results. Output of the search results when passed on the the LLM helps provide accurate results with lesser hallucinations."
   ]
  },
  {
   "cell_type": "code",
   "execution_count": null,
   "metadata": {},
   "outputs": [],
   "source": []
  }
 ],
 "metadata": {
  "colab": {
   "provenance": []
  },
  "kernelspec": {
   "display_name": "conda_python3",
   "language": "python",
   "name": "conda_python3"
  },
  "language_info": {
   "codemirror_mode": {
    "name": "ipython",
    "version": 3
   },
   "file_extension": ".py",
   "mimetype": "text/x-python",
   "name": "python",
   "nbconvert_exporter": "python",
   "pygments_lexer": "ipython3",
   "version": "3.10.15"
  }
 },
 "nbformat": 4,
 "nbformat_minor": 4
}
