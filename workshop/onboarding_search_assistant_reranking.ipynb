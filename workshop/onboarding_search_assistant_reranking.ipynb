{
 "cells": [
  {
   "cell_type": "markdown",
   "id": "38e96016",
   "metadata": {},
   "source": [
    "# Search assistant for onboarding new hires"
   ]
  },
  {
   "cell_type": "markdown",
   "id": "8c276a97",
   "metadata": {},
   "source": [
    "Search technologies can significantly assist in the onboarding process for new employees, making it more efficient and effective by providing:\n",
    "\n",
    "- Quick Access to Information: New employees often have numerous questions and need access to various resources, such as company policies, employee handbooks, training materials, and frequently asked questions. A search function allows them to quickly find relevant information without relying solely on human assistance.\n",
    "- Self-Service Onboarding: Search tools enable new hires to navigate the onboarding process at their own pace. They can search for specific topics, departments, or keywords to find the information they need, reducing the burden on HR or support staff.\n",
    "\n",
    "Reranking when used as part of your search pipeline provides a accuracy boost.\n",
    "\n",
    "In this notebook, you'll learn about:\n",
    "- Reranking semantic search results\n",
    "- Reranking semi-structured data\n",
    "- Reranking tabular data\n",
    "- Multilingual reranking\n"
   ]
  },
  {
   "cell_type": "markdown",
   "id": "8b5c0b45",
   "metadata": {},
   "source": [
    "## Setup\n",
    "\n",
    "Install the required packages and define the bedrock runtime agent"
   ]
  },
  {
   "cell_type": "code",
   "execution_count": 104,
   "id": "721e3d4a",
   "metadata": {},
   "outputs": [
    {
     "name": "stdout",
     "output_type": "stream",
     "text": [
      "Requirement already satisfied: boto3 in /home/ec2-user/anaconda3/envs/python3/lib/python3.10/site-packages (1.36.20)\n",
      "Requirement already satisfied: botocore<1.37.0,>=1.36.20 in /home/ec2-user/anaconda3/envs/python3/lib/python3.10/site-packages (from boto3) (1.36.20)\n",
      "Requirement already satisfied: jmespath<2.0.0,>=0.7.1 in /home/ec2-user/anaconda3/envs/python3/lib/python3.10/site-packages (from boto3) (1.0.1)\n",
      "Requirement already satisfied: s3transfer<0.12.0,>=0.11.0 in /home/ec2-user/anaconda3/envs/python3/lib/python3.10/site-packages (from boto3) (0.11.2)\n",
      "Requirement already satisfied: python-dateutil<3.0.0,>=2.1 in /home/ec2-user/anaconda3/envs/python3/lib/python3.10/site-packages (from botocore<1.37.0,>=1.36.20->boto3) (2.9.0)\n",
      "Requirement already satisfied: urllib3!=2.2.0,<3,>=1.25.4 in /home/ec2-user/anaconda3/envs/python3/lib/python3.10/site-packages (from botocore<1.37.0,>=1.36.20->boto3) (2.2.3)\n",
      "Requirement already satisfied: six>=1.5 in /home/ec2-user/anaconda3/envs/python3/lib/python3.10/site-packages (from python-dateutil<3.0.0,>=2.1->botocore<1.37.0,>=1.36.20->boto3) (1.16.0)\n"
     ]
    }
   ],
   "source": [
    "!pip install boto3 --upgrade\n",
    "\n",
    "import boto3\n",
    "import json\n",
    "import pandas as pd\n",
    "from io import StringIO\n",
    "region = boto3.Session().region_name\n",
    "\n",
    "bedrock_agent_runtime = boto3.client('bedrock-agent-runtime',region_name='us-west-2')\n",
    "\n",
    "modelId = \"cohere.rerank-v3-5:0\"\n",
    "model_package_arn = f\"arn:aws:bedrock:{region}::foundation-model/{modelId}\""
   ]
  },
  {
   "cell_type": "markdown",
   "id": "86132350",
   "metadata": {},
   "source": [
    "## Reranking search results\n",
    "\n",
    "Rerank requires just a single line of code to implement.\n",
    "\n",
    "We have a list of documents treated as a FAQ list, however this list may not be optimally ranked for relevance to the user query. "
   ]
  },
  {
   "cell_type": "code",
   "execution_count": 96,
   "id": "29c3b1a9",
   "metadata": {},
   "outputs": [],
   "source": [
    "# Define the documents\n",
    "documents = [\n",
    "    \"Reimbursing Travel Expenses: Easily manage your travel expenses by submitting them through our finance tool. Approvals are prompt and straightforward.\",\n",
    "    \"Working from Abroad: Working remotely from another country is possible. Simply coordinate with your manager and ensure your availability during core hours.\",\n",
    "    \"Health and Wellness Benefits: We care about your well-being and offer gym memberships, on-site yoga classes, and comprehensive health insurance.\",\n",
    "    \"Performance Reviews Frequency: We conduct informal check-ins every quarter and formal performance reviews twice a year.\",\n",
    "    \"Our mission is to innovate and create cutting-edge technology solutions that empower businesses and enhance user experiences.\",\n",
    "    \"You can access your work email through the company's email platform, which is typically provided during the onboarding process.\",\n",
    "    \"Essential tools include our project management software, communication platforms, and version control systems.\",\n",
    "    \"Time-off requests are submitted through the HR portal, where you can also track your approved leave.\",\n",
    "    \"We foster a collaborative and inclusive culture, encouraging open communication and a healthy work-life balance.\",\n",
    "    \"Training materials and modules are accessible through our learning management system, which you'll receive access to during onboarding.\",\n",
    "    \"Performance goals are outlined in your role-specific documentation and discussed during your performance review meetings.\",\n",
    "    \"Regular company-wide updates are shared via email and our internal communication channels.\",\n",
    "    \"We offer mentorship programs, online courses, and industry conferences to support your professional growth.\",\n",
    "    \"Sensitive data should be accessed and handled with care, following our data security guidelines and training materials.\",\n",
    "    \"Our company is committed to fostering an inclusive environment, and our policies are outlined in the employee handbook.\",\n",
    "    \"You can volunteer for committees, join employee resource groups, or participate in company-wide events.\",\n",
    "    \"Role transfers are handled through the HR department, who will guide you through the necessary steps.\",\n",
    "    \"Benefit details and enrollment processes are provided during onboarding and can be accessed through the HR portal.\",\n",
    "    \"Expense reimbursement is managed through an online system, where you can submit and track your expenses.\",\n",
    "    \"You can report issues or provide feedback through our internal communication platforms or directly to your manager.\",\n",
    "    \"Remote work policies are outlined in the company's work-from-home guidelines, which you'll receive during onboarding.\",\n",
    "    \"Technical support is available through our help desk, where you can submit tickets for assistance.\",\n",
    "    \"Travel policies, including expense guidelines and booking procedures, are detailed in the employee handbook.\",\n",
    "    \"Community engagement opportunities are promoted through our social responsibility initiatives and volunteer programs.\"\n",
    "]"
   ]
  },
  {
   "cell_type": "code",
   "execution_count": 97,
   "id": "5f8ccca3",
   "metadata": {},
   "outputs": [],
   "source": [
    "def rerank_text(text_query, text_sources, num_results, model_package_arn):\n",
    "    response = bedrock_agent_runtime.rerank(\n",
    "        queries=[\n",
    "            {\n",
    "                \"type\": \"TEXT\",\n",
    "                \"textQuery\": {\n",
    "                    \"text\": text_query\n",
    "                }\n",
    "            }\n",
    "        ],\n",
    "        sources=text_sources,\n",
    "        rerankingConfiguration={\n",
    "            \"type\": \"BEDROCK_RERANKING_MODEL\",\n",
    "            \"bedrockRerankingConfiguration\": {\n",
    "                \"numberOfResults\": num_results,\n",
    "                \"modelConfiguration\": {\n",
    "                    \"modelArn\": model_package_arn,\n",
    "                }\n",
    "            }\n",
    "        }\n",
    "    )\n",
    "    return response['results']"
   ]
  },
  {
   "cell_type": "code",
   "execution_count": 98,
   "id": "39f14785",
   "metadata": {},
   "outputs": [],
   "source": [
    "text_sources = []\n",
    "for text in documents:\n",
    "    text_sources.append({\n",
    "        \"type\": \"INLINE\",\n",
    "        \"inlineDocumentSource\": {\n",
    "            \"type\": \"TEXT\",\n",
    "            \"textDocument\": {\n",
    "                \"text\": text,\n",
    "            }\n",
    "        }\n",
    "    })"
   ]
  },
  {
   "cell_type": "code",
   "execution_count": 101,
   "id": "92626bde",
   "metadata": {},
   "outputs": [
    {
     "name": "stdout",
     "output_type": "stream",
     "text": [
      "\tIndex:20 Relevance:0.2174043506383896\tRemote work policies are outlined in the company's work-from-home guidelines, which you'll receive during onboarding.\n",
      "\n",
      "\n",
      "\tIndex:1 Relevance:0.1998075246810913\tWorking from Abroad: Working remotely from another country is possible. Simply coordinate with your manager and ensure your availability during core hours.\n",
      "\n",
      "\n",
      "\tIndex:15 Relevance:0.1214878261089325\tYou can volunteer for committees, join employee resource groups, or participate in company-wide events.\n",
      "\n",
      "\n",
      "\tIndex:14 Relevance:0.07031037658452988\tOur company is committed to fostering an inclusive environment, and our policies are outlined in the employee handbook.\n",
      "\n",
      "\n",
      "\tIndex:7 Relevance:0.06570681184530258\tTime-off requests are submitted through the HR portal, where you can also track your approved leave.\n",
      "\n",
      "\n"
     ]
    }
   ],
   "source": [
    "# Add the user query\n",
    "query = \"Can I work remotely for 3 days a week\"\n",
    "\n",
    "response = rerank_text(query, text_sources, 5, model_package_arn)\n",
    "for i in response:\n",
    "    print(\"\\tIndex:{} Relevance:{}\\t{}\".format(i['index'],i['relevanceScore'],documents[i['index']]).replace(\"\\n\", \" \"))\n",
    "    print (\"\\n\")"
   ]
  },
  {
   "cell_type": "markdown",
   "id": "8e878f51",
   "metadata": {},
   "source": [
    "## Reranking semi-structured data\n",
    "\n",
    "The Rerank model supports multi-aspect and semi-structured data like emails, invoices, JSON documents, code, and tables.\n",
    "\n",
    "In the following example, we'll use an email data example. It is a semi-stuctured data that contains a number of fields – `from`, `to`, `date`, `subject`, and `text`. \n",
    "\n",
    "Suppose the new hire now wants to search for any emails about check-in sessions. Let's assume we have a list emails retrieved from the email provider's API."
   ]
  },
  {
   "cell_type": "code",
   "execution_count": 103,
   "id": "1a36809b",
   "metadata": {},
   "outputs": [
    {
     "name": "stdout",
     "output_type": "stream",
     "text": [
      "\tIndex:0 Relevance:0.2867535948753357\tWe are delighted to welcome you to the team! As you embark on your journey with us, you'll find attached an agenda to guide you through your first week.\n",
      "\n",
      "\n",
      "\tIndex:2 Relevance:0.09654402732849121\tHello! I hope you're settling in well. Let's connect briefly tomorrow to discuss how your first week has been going. Also, make sure to join us for a welcoming lunch this Thursday at noon—it's a great opportunity to get to know your colleagues!\n",
      "\n",
      "\n",
      "\tIndex:1 Relevance:0.02798897586762905\tGreetings! To ensure a seamless start, please refer to the attached comprehensive guide, which will assist you in setting up all your work accounts.\n",
      "\n",
      "\n"
     ]
    }
   ],
   "source": [
    "# Define the data\n",
    "emails = [\n",
    "    {\"from\": \"hr@co1t.com\", \"to\": \"david@co1t.com\", \"date\": \"2024-06-24\", \"subject\": \"A Warm Welcome to CompanyXYZ!\", \"text\": \"We are delighted to welcome you to the team! As you embark on your journey with us, you'll find attached an agenda to guide you through your first week.\"},\n",
    "    {\"from\": \"it@co1t.com\", \"to\": \"david@co1t.com\", \"date\": \"2024-06-24\", \"subject\": \"Setting Up Your IT Needs\", \"text\": \"Greetings! To ensure a seamless start, please refer to the attached comprehensive guide, which will assist you in setting up all your work accounts.\"},\n",
    "    {\"from\": \"john@co1t.com\", \"to\": \"david@co1t.com\", \"date\": \"2024-06-24\", \"subject\": \"First Week Check-In\", \"text\": \"Hello! I hope you're settling in well. Let's connect briefly tomorrow to discuss how your first week has been going. Also, make sure to join us for a welcoming lunch this Thursday at noon—it's a great opportunity to get to know your colleagues!\"}\n",
    "]\n",
    "\n",
    "text_sources = []\n",
    "for text in emails:\n",
    "    text_sources.append({\n",
    "        \"type\": \"INLINE\",\n",
    "        \"inlineDocumentSource\": {\n",
    "            \"type\": \"JSON\",\n",
    "            \"jsonDocument\": text\n",
    "        }\n",
    "    })\n",
    "\n",
    "query = \"What are my action items for week1?\"\n",
    "\n",
    "response = rerank_text(query, text_sources, 3, model_package_arn)\n",
    "for i in response:\n",
    "    print(\"\\tIndex:{} Relevance:{}\\t{}\".format(i['index'],i['relevanceScore'],emails[i['index']]['text']).replace(\"\\n\", \" \"))\n",
    "    print (\"\\n\")"
   ]
  },
  {
   "cell_type": "markdown",
   "id": "e72ae7b6",
   "metadata": {},
   "source": [
    "## Reranking Tabular data\n",
    "\n",
    "Many enterprises rely on tabular data, such as relational databases, CSVs, and Excel. To perform reranking, you can transform a dataframe into a list of JSON records and use Rerank capabilities to rank them. Here we convert the data into JSON format before passing it to the Rerank endpoint.\n",
    "\n",
    "Here's an example of reranking a CSV file that contains employee information."
   ]
  },
  {
   "cell_type": "code",
   "execution_count": 106,
   "id": "99eeda72",
   "metadata": {},
   "outputs": [
    {
     "name": "stdout",
     "output_type": "stream",
     "text": [
      "\tIndex:1 Relevance:0.7948475480079651\t{'name': 'Emma Williams', 'role': 'Product Designer', 'join_date': '2024-06-15', 'email': 'emma@co1t.com', 'status': 'Full-time'}\n",
      "\n",
      "\n",
      "\tIndex:4 Relevance:0.7900289297103882\t{'name': 'Ethan Davis', 'role': 'Product Designer', 'join_date': '2024-05-25', 'email': 'ethan@co1t.com', 'status': 'Contractor'}\n",
      "\n",
      "\n",
      "\tIndex:2 Relevance:0.21260815858840942\t{'name': 'Michael Jones', 'role': 'Marketing Manager', 'join_date': '2024-05-20', 'email': 'michael@co1t.com', 'status': 'Full-time'}\n",
      "\n",
      "\n"
     ]
    }
   ],
   "source": [
    "\n",
    "# Create a demo CSV file\n",
    "data = \"\"\"name,role,join_date,email,status\n",
    "Rebecca Lee,Senior Software Engineer,2024-07-01,rebecca@co1t.com,Full-time\n",
    "Emma Williams,Product Designer,2024-06-15,emma@co1t.com,Full-time\n",
    "Michael Jones,Marketing Manager,2024-05-20,michael@co1t.com,Full-time\n",
    "Amelia Thompson,Sales Representative,2024-05-20,amelia@co1t.com,Part-time\n",
    "Ethan Davis,Product Designer,2024-05-25,ethan@co1t.com,Contractor\"\"\"\n",
    "data_csv = StringIO(data)\n",
    "\n",
    "# Load the CSV file\n",
    "df = pd.read_csv(data_csv)\n",
    "df.head()\n",
    "\n",
    "# Define the documents\n",
    "employees = df.to_json(orient='records')\n",
    "\n",
    "# Parse the JSON string to ensure proper formatting with indentation\n",
    "emp_json_data = json.loads(employees)\n",
    "\n",
    "text_sources = []\n",
    "for text in emp_json_data:\n",
    "    text_sources.append({\n",
    "        \"type\": \"INLINE\",\n",
    "        \"inlineDocumentSource\": {\n",
    "            \"type\": \"JSON\",\n",
    "            \"jsonDocument\": text\n",
    "        }\n",
    "    })\n",
    "    \n",
    "# Add the user query\n",
    "query = \"Any other product designers who joined recently?\"\n",
    "\n",
    "# Rerank the documents\n",
    "response = rerank_text(query, text_sources, 3, model_package_arn)\n",
    "for i in response:\n",
    "    print(\"\\tIndex:{} Relevance:{}\\t{}\".format(i['index'],i['relevanceScore'],emp_json_data[i['index']]).replace(\"\\n\", \" \"))\n",
    "    print (\"\\n\")"
   ]
  },
  {
   "cell_type": "markdown",
   "id": "45c68cd4",
   "metadata": {},
   "source": [
    "## Multilingual Reranking\n",
    "\n",
    "The Rerank endpoint also supports multilingual semantic search. This means you can perform semantic search on texts in different languages.\n",
    "\n",
    "In the example below, we repeat the steps of performing reranking on an Arabic query."
   ]
  },
  {
   "cell_type": "code",
   "execution_count": 107,
   "id": "6c7e9a12",
   "metadata": {},
   "outputs": [
    {
     "name": "stdout",
     "output_type": "stream",
     "text": [
      "\tIndex:3 Relevance:0.4832344651222229\tPerformance Reviews Frequency: We conduct informal check-ins every quarter and formal performance reviews twice a year.\n",
      "\n",
      "\n",
      "\tIndex:10 Relevance:0.32701295614242554\tPerformance goals are outlined in your role-specific documentation and discussed during your performance review meetings.\n",
      "\n",
      "\n",
      "\tIndex:19 Relevance:0.18124903738498688\tYou can report issues or provide feedback through our internal communication platforms or directly to your manager.\n",
      "\n",
      "\n",
      "\tIndex:6 Relevance:0.07069435715675354\tEssential tools include our project management software, communication platforms, and version control systems.\n",
      "\n",
      "\n",
      "\tIndex:15 Relevance:0.05651179328560829\tYou can volunteer for committees, join employee resource groups, or participate in company-wide events.\n",
      "\n",
      "\n"
     ]
    }
   ],
   "source": [
    "text_sources = []\n",
    "for text in documents:\n",
    "    text_sources.append({\n",
    "        \"type\": \"INLINE\",\n",
    "        \"inlineDocumentSource\": {\n",
    "            \"type\": \"TEXT\",\n",
    "            \"textDocument\": {\n",
    "                \"text\": text,\n",
    "            }\n",
    "        }\n",
    "    })\n",
    "    \n",
    "query = \"كيف يتم إجراء مراجعات الأداء\" #How are performance reviews conducted?\n",
    "\n",
    "response = rerank_text(query, text_sources, 5, model_package_arn)\n",
    "for i in response:\n",
    "    print(\"\\tIndex:{} Relevance:{}\\t{}\".format(i['index'],i['relevanceScore'],documents[i['index']]).replace(\"\\n\", \" \"))\n",
    "    print (\"\\n\")\n"
   ]
  },
  {
   "cell_type": "markdown",
   "id": "c9ecf55d",
   "metadata": {},
   "source": [
    "## Conclusion\n",
    "\n",
    "In this notebook we learned how Rerank can be utilized to refine search results based on semantic relevance to the search query.Reranking can be performed on semi-structured data, tabular data, Multilingual data and more."
   ]
  },
  {
   "cell_type": "code",
   "execution_count": null,
   "id": "b63747d2",
   "metadata": {},
   "outputs": [],
   "source": []
  }
 ],
 "metadata": {
  "kernelspec": {
   "display_name": "conda_python3",
   "language": "python",
   "name": "conda_python3"
  },
  "language_info": {
   "codemirror_mode": {
    "name": "ipython",
    "version": 3
   },
   "file_extension": ".py",
   "mimetype": "text/x-python",
   "name": "python",
   "nbconvert_exporter": "python",
   "pygments_lexer": "ipython3",
   "version": "3.10.15"
  }
 },
 "nbformat": 4,
 "nbformat_minor": 5
}
