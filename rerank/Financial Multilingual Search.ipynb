{
 "cells": [
  {
   "cell_type": "markdown",
   "id": "3ea31db8-a39e-4667-90e9-b7e5edbfa51a",
   "metadata": {},
   "source": [
    "# Build Multilingual Financial Search Applications with Cohere - Code Walkthrough\n",
    "In the following use case example, we’ll showcase how Cohere’s Embed model can search and\n",
    "query across financial news in different languages in one unique pipeline. Finally, we’ll see how\n",
    "adding Rerank to our embeddings retrieval (or adding it to a legacy lexical search) can further\n",
    "improve our results."
   ]
  },
  {
   "cell_type": "markdown",
   "id": "494c504f-0886-4b29-8716-0a47e6450647",
   "metadata": {},
   "source": [
    "### Install Packages and Import Modules"
   ]
  },
  {
   "cell_type": "code",
   "execution_count": null,
   "id": "bb2388da",
   "metadata": {},
   "outputs": [],
   "source": [
    "!pip install --upgrade cohere-aws hnswlib\n",
    "# If you upgrade the package, you need to restart the kernel"
   ]
  },
  {
   "cell_type": "code",
   "execution_count": null,
   "id": "be54602a-944d-43c4-a611-6f8f57285618",
   "metadata": {},
   "outputs": [],
   "source": [
    "import pandas as pd\n",
    "import cohere_aws\n",
    "import hnswlib\n",
    "import warnings\n",
    "import os\n",
    "import re\n",
    "import boto3\n",
    "warnings.filterwarnings('ignore')"
   ]
  },
  {
   "cell_type": "markdown",
   "id": "ab9e4080-542b-4aad-94f4-6cf33789c792",
   "metadata": {},
   "source": [
    "### Import Documents \n",
    "\n",
    "Information about MultiFIN paper and data can be found in its Github repo https://github.com/RasmusKaer/MultiFin.\n",
    "\n",
    "We will be using a csv that contains the data plus google translations of the articles"
   ]
  },
  {
   "cell_type": "code",
   "execution_count": null,
   "id": "94c04e40-e8ca-4273-b4df-d5b8e01990d1",
   "metadata": {},
   "outputs": [],
   "source": [
    "# Read the data\n",
    "url = \"https://raw.githubusercontent.com/cohere-ai/cohere-aws/main/notebooks/bedrock/multiFIN_train.csv\"\n",
    "df = pd.read_csv(url)"
   ]
  },
  {
   "cell_type": "code",
   "execution_count": null,
   "id": "7197a0b7-f01e-46bd-ad2d-49395d119cd2",
   "metadata": {},
   "outputs": [],
   "source": [
    "# Inspect dataset\n",
    "df.head(5)"
   ]
  },
  {
   "cell_type": "code",
   "execution_count": null,
   "id": "327177dd-bc70-4259-b3d4-4b7a70eedd1e",
   "metadata": {},
   "outputs": [],
   "source": [
    "# Check language distribution\n",
    "df['lang'].value_counts()"
   ]
  },
  {
   "cell_type": "markdown",
   "id": "0facfeb0-92e9-4709-b69f-1f2f60db7c43",
   "metadata": {},
   "source": [
    "### Select List of Documents to Query\n",
    "\n",
    "We need to do a quick cleaning and then we will select the articles we will be querying"
   ]
  },
  {
   "cell_type": "code",
   "execution_count": null,
   "id": "9c96470b",
   "metadata": {},
   "outputs": [],
   "source": [
    "# We want to select the longest articles, but some are long just due to repeated text - we will clean that up\n",
    "df['text'].iloc[2215]"
   ]
  },
  {
   "cell_type": "code",
   "execution_count": null,
   "id": "fcbafe7d-db5b-4f3d-8234-0ec577761cdd",
   "metadata": {},
   "outputs": [],
   "source": [
    "# Ensure there is no duplicated text in the headers\n",
    "def remove_duplicates(text):\n",
    "    return re.sub(r'((\\b\\w+\\b.{1,2}\\w+\\b)+).+\\1', r'\\1', text, flags=re.I)\n",
    "\n",
    "df ['text'] = df['text'].apply(remove_duplicates)\n",
    "\n",
    "# Keep only selected languages\n",
    "languages = ['English', 'Spanish', 'Danish']\n",
    "df = df.loc[df['lang'].isin(languages)]\n",
    "\n",
    "# Pick the top 80 longest articles\n",
    "df['text_length'] = df['text'].str.len()\n",
    "df.sort_values(by=['text_length'], ascending=False, inplace=True)\n",
    "top_80_df = df[:80]\n",
    "\n",
    "# Language distribution\n",
    "top_80_df['lang'].value_counts()"
   ]
  },
  {
   "cell_type": "code",
   "execution_count": null,
   "id": "d41bcc6b",
   "metadata": {},
   "outputs": [],
   "source": [
    "# As an example below is our longest article\n",
    "top_80_df['text'].iloc[1]"
   ]
  },
  {
   "cell_type": "markdown",
   "id": "bc6f9061-96a4-4d22-af35-8c2f9d9ae19a",
   "metadata": {},
   "source": [
    "### Embed and Index Documents"
   ]
  },
  {
   "cell_type": "code",
   "execution_count": null,
   "id": "41fa6476-9cff-4af0-9d03-50213d72a2e6",
   "metadata": {},
   "outputs": [],
   "source": [
    "# Establish Cohere client\n",
    "co = cohere_aws.Client(mode=cohere_aws.Mode.BEDROCK)\n",
    "model_id = \"cohere.embed-multilingual-v3\"\n",
    "\n",
    "# Embed documents\n",
    "docs = top_80_df['text'].to_list()\n",
    "docs_lang = top_80_df['lang'].to_list()\n",
    "\n",
    "translated_docs = top_80_df['translation'].to_list() #for reference when returning non-English results\n",
    "doc_embs = co.embed(texts=docs, model_id=model_id, input_type='search_document').embeddings\n",
    "\n",
    "# Create a search index with hnswlib, a library for fast approximate nearest neighbor search\n",
    "index = hnswlib.Index(space='ip', dim=1024) # Cohere.embed-multilingual-v3 outputs embeddings with 1024 dimensions\n",
    "index.init_index(max_elements=len(doc_embs), ef_construction=512, M=64) # For more info: https://github.com/nmslib/hnswlib#api-description\n",
    "index.add_items(doc_embs, list(range(len(doc_embs))))"
   ]
  },
  {
   "cell_type": "markdown",
   "id": "4de25ec1-98f6-4a07-819a-ac40c3324cd3",
   "metadata": {},
   "source": [
    "### Build a Retrieval System"
   ]
  },
  {
   "cell_type": "code",
   "execution_count": null,
   "id": "29843367-b738-4eb5-83eb-0bb5827b3a79",
   "metadata": {},
   "outputs": [],
   "source": [
    "# Retrieval of 50 closest docs to query\n",
    "def retrieval(query):\n",
    "    # Embed query and retrieve results\n",
    "    query_emb = co.embed(texts=[query], model_id=model_id, input_type=\"search_query\").embeddings\n",
    "    \n",
    "    doc_ids = index.knn_query(query_emb, k=50)[0][0] # we will retrieve 50 closest neighbors\n",
    "\n",
    "    print(f\"DOCUMENT IDs returned => {doc_ids} \\n\" )\n",
    "    \n",
    "    # Print and append results\n",
    "    print(f\"-> QUERY: '{query.upper()}' \\n\")\n",
    "    print(\"-> Results: \\n\")\n",
    "    retrieved_docs, translated_retrieved_docs = [], []\n",
    "    \n",
    "    for doc_id in doc_ids:\n",
    "        # Append results\n",
    "        retrieved_docs.append(docs[doc_id])\n",
    "        translated_retrieved_docs.append(translated_docs[doc_id])\n",
    "    \n",
    "        # Print results\n",
    "        print(f\"ORIGINAL ({docs_lang[doc_id]}): {docs[doc_id]}\")\n",
    "        if docs_lang[doc_id] != \"English\":\n",
    "            print(f\"TRANSLATION: {translated_docs[doc_id]} \\n----\")\n",
    "        else:\n",
    "            print(\"----\")\n",
    "    print(\"END OF RESULTS \\n\\n\")\n",
    "    return retrieved_docs, translated_retrieved_docs"
   ]
  },
  {
   "cell_type": "markdown",
   "id": "3d52efbb",
   "metadata": {},
   "source": [
    "### Query and Improve Results with Cohere Rerank"
   ]
  },
  {
   "cell_type": "code",
   "execution_count": null,
   "id": "fc45f1b8",
   "metadata": {},
   "outputs": [],
   "source": [
    "#Query without Rerank\n",
    "\n",
    "query = \"Are companies ready for the next down market?\"\n",
    "retrieved_docs, translated_retrieved_docs = retrieval(query)"
   ]
  },
  {
   "cell_type": "code",
   "execution_count": null,
   "id": "0e798bbb",
   "metadata": {},
   "outputs": [],
   "source": [
    "cohere_package = \"cohere-rerank-multilingual-v3--96e1eea512fe31ae9c0639e56d40d853\"\n",
    "\n",
    "model_package_map = {\n",
    "    \"us-east-1\": f\"arn:aws:sagemaker:us-east-1:865070037744:model-package/{cohere_package}\",\n",
    "    \"us-east-2\": f\"arn:aws:sagemaker:us-east-2:057799348421:model-package/{cohere_package}\",\n",
    "    \"us-west-1\": f\"arn:aws:sagemaker:us-west-1:382657785993:model-package/{cohere_package}\",\n",
    "    \"us-west-2\": f\"arn:aws:sagemaker:us-west-2:594846645681:model-package/{cohere_package}\",\n",
    "    \"ca-central-1\": f\"arn:aws:sagemaker:ca-central-1:470592106596:model-package/{cohere_package}\",\n",
    "    \"eu-central-1\": f\"arn:aws:sagemaker:eu-central-1:446921602837:model-package/{cohere_package}\",\n",
    "    \"eu-west-1\": f\"arn:aws:sagemaker:eu-west-1:985815980388:model-package/{cohere_package}\",\n",
    "    \"eu-west-2\": f\"arn:aws:sagemaker:eu-west-2:856760150666:model-package/{cohere_package}\",\n",
    "    \"eu-west-3\": f\"arn:aws:sagemaker:eu-west-3:843114510376:model-package/{cohere_package}\",\n",
    "    \"eu-north-1\": f\"arn:aws:sagemaker:eu-north-1:136758871317:model-package/{cohere_package}\",\n",
    "    \"ap-southeast-1\": f\"arn:aws:sagemaker:ap-southeast-1:192199979996:model-package/{cohere_package}\",\n",
    "    \"ap-southeast-2\": f\"arn:aws:sagemaker:ap-southeast-2:666831318237:model-package/{cohere_package}\",\n",
    "    \"ap-northeast-2\": f\"arn:aws:sagemaker:ap-northeast-2:745090734665:model-package/{cohere_package}\",\n",
    "    \"ap-northeast-1\": f\"arn:aws:sagemaker:ap-northeast-1:977537786026:model-package/{cohere_package}\",\n",
    "    \"ap-south-1\": f\"arn:aws:sagemaker:ap-south-1:077584701553:model-package/{cohere_package}\",\n",
    "    \"sa-east-1\": f\"arn:aws:sagemaker:sa-east-1:270155090741:model-package/{cohere_package}\",\n",
    "}\n",
    "\n",
    "region = boto3.Session().region_name\n",
    "if region not in model_package_map.keys():\n",
    "    raise Exception(f\"Current boto3 session region {region} is not supported.\")\n",
    "\n",
    "model_package_arn = model_package_map[region]"
   ]
  },
  {
   "cell_type": "code",
   "execution_count": null,
   "id": "ad714c74",
   "metadata": {},
   "outputs": [],
   "source": [
    "#Initialize and connect to Cohere Rerank endpoint\n",
    "\n",
    "import cohere_aws\n",
    "region='us-east-1'\n",
    "co = cohere_aws.Client(region_name=region)\n",
    "co.create_endpoint(arn=model_package_arn, endpoint_name=\"cohere-rerank-multilingual\", instance_type=\"ml.g5.xlarge\", n_instances=1)\n",
    "\n",
    "# If the endpoint is already created, you just need to connect to it\n",
    "co.connect_to_endpoint(endpoint_name=\"cohere-rerank-multilingual\")"
   ]
  },
  {
   "cell_type": "markdown",
   "id": "32facc5b",
   "metadata": {},
   "source": [
    "Once endpoint has been created, you would be able to perform real-time inference."
   ]
  },
  {
   "cell_type": "code",
   "execution_count": null,
   "id": "6d7ee9ff-03cd-4140-b972-768a67872c51",
   "metadata": {
    "scrolled": true
   },
   "outputs": [],
   "source": [
    "#Query with Rerank\n",
    "\n",
    "results = co.rerank(query=query,documents=retrieved_docs, top_n=10)\n",
    "\n",
    "i=0\n",
    "for hit in results:\n",
    "    i+=1\n",
    "    print(\"\\t{} was({})\\t{}\".format(i, hit.index, hit.document[\"text\"].replace(\"\\n\", \" \")))"
   ]
  },
  {
   "cell_type": "markdown",
   "id": "de0919b7",
   "metadata": {},
   "source": [
    "# Clean-up\n",
    "Delete the model\n",
    "\n",
    "Now that you have successfully performed a real-time inference, you do not need the endpoint any more. You can terminate the endpoint to avoid being charged.\n"
   ]
  },
  {
   "cell_type": "code",
   "execution_count": null,
   "id": "51402035",
   "metadata": {},
   "outputs": [],
   "source": [
    "co.delete_endpoint()\n",
    "co.close()"
   ]
  },
  {
   "cell_type": "code",
   "execution_count": null,
   "id": "c3cf1e47",
   "metadata": {},
   "outputs": [],
   "source": []
  }
 ],
 "metadata": {
  "kernelspec": {
   "display_name": "conda_python3",
   "language": "python",
   "name": "conda_python3"
  },
  "language_info": {
   "codemirror_mode": {
    "name": "ipython",
    "version": 3
   },
   "file_extension": ".py",
   "mimetype": "text/x-python",
   "name": "python",
   "nbconvert_exporter": "python",
   "pygments_lexer": "ipython3",
   "version": "3.10.14"
  }
 },
 "nbformat": 4,
 "nbformat_minor": 5
}
